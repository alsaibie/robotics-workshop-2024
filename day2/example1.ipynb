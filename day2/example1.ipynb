{
 "cells": [
  {
   "cell_type": "code",
   "execution_count": null,
   "metadata": {},
   "outputs": [],
   "source": [
    "# pip install sympy\n",
    "from sympy import rot_axis1, rot_axis2, rot_axis3, symbols, latex\n",
    "from IPython.display import Latex\n",
    "phi, theta, psi = symbols('phi theta psi')\n",
    "\n",
    "R_XYZ = \n",
    "R_ZYX = \n",
    "R_ZXY = \n",
    "\n",
    "display(Latex(f\"$${latex(R_XYZ)}$$\"))\n",
    "display(Latex(f\"$${latex(R_ZYX)}$$\"))\n",
    "display(Latex(f\"$${latex(R_ZXY)}$$\"))"
   ]
  }
 ],
 "metadata": {
  "language_info": {
   "name": "python"
  }
 },
 "nbformat": 4,
 "nbformat_minor": 2
}
